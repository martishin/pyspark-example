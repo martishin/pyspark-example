{
 "cells": [
  {
   "cell_type": "code",
   "id": "initial_id",
   "metadata": {
    "collapsed": true,
    "ExecuteTime": {
     "end_time": "2024-09-08T16:24:34.077992Z",
     "start_time": "2024-09-08T16:24:34.073155Z"
    }
   },
   "source": [
    "# set pyspark env variables\n",
    "import os\n",
    "os.environ['SPARK_HOME'] = \"/Users/monkey/.sdkman/candidates/spark/current\"\n",
    "os.environ['PYSPARK_DRIVER_PYTHON'] = 'jupyter'\n",
    "os.environ['PYSPARK_DRIVER_PYTHON_OPTS'] = 'lab'\n",
    "os.environ['PYSPARK_PYTHON'] = 'python3'"
   ],
   "outputs": [],
   "execution_count": 1
  },
  {
   "metadata": {
    "ExecuteTime": {
     "end_time": "2024-09-08T16:24:34.106719Z",
     "start_time": "2024-09-08T16:24:34.079203Z"
    }
   },
   "cell_type": "code",
   "source": [
    "# Import PySpark\n",
    "from pyspark.sql import SparkSession"
   ],
   "id": "a9e098b0ccc0e8b0",
   "outputs": [],
   "execution_count": 2
  },
  {
   "metadata": {
    "ExecuteTime": {
     "end_time": "2024-09-08T16:24:35.485865Z",
     "start_time": "2024-09-08T16:24:34.107495Z"
    }
   },
   "cell_type": "code",
   "source": [
    "# Create a SparkSession\n",
    "spark = SparkSession.builder \\\n",
    "    .appName(\"pyspark-get-started\") \\\n",
    "    .getOrCreate()"
   ],
   "id": "79e0eefab3ecc91",
   "outputs": [
    {
     "name": "stderr",
     "output_type": "stream",
     "text": [
      "24/09/08 18:24:34 WARN Utils: Your hostname, Alexs-Mac-mini.local resolves to a loopback address: 127.0.0.1; using 192.168.178.87 instead (on interface en0)\n",
      "24/09/08 18:24:34 WARN Utils: Set SPARK_LOCAL_IP if you need to bind to another address\n",
      "Setting default log level to \"WARN\".\n",
      "To adjust logging level use sc.setLogLevel(newLevel). For SparkR, use setLogLevel(newLevel).\n",
      "24/09/08 18:24:35 WARN NativeCodeLoader: Unable to load native-hadoop library for your platform... using builtin-java classes where applicable\n"
     ]
    }
   ],
   "execution_count": 3
  },
  {
   "metadata": {
    "ExecuteTime": {
     "end_time": "2024-09-08T16:24:37.657219Z",
     "start_time": "2024-09-08T16:24:35.486908Z"
    }
   },
   "cell_type": "code",
   "source": [
    "# Test the setup\n",
    "data = [(\"Alice\", 25), (\"Bob\", 30), (\"Charlie\", 35)]\n",
    "df = spark.createDataFrame(data, [\"Name\", \"Age\"])\n",
    "df.show()"
   ],
   "id": "faf3b0384bb61b33",
   "outputs": [
    {
     "name": "stdout",
     "output_type": "stream",
     "text": [
      "+-------+---+\n",
      "|   Name|Age|\n",
      "+-------+---+\n",
      "|  Alice| 25|\n",
      "|    Bob| 30|\n",
      "|Charlie| 35|\n",
      "+-------+---+\n",
      "\n"
     ]
    }
   ],
   "execution_count": 4
  },
  {
   "metadata": {
    "ExecuteTime": {
     "end_time": "2024-09-08T16:24:38.293947Z",
     "start_time": "2024-09-08T16:24:37.658629Z"
    }
   },
   "cell_type": "code",
   "source": "spark.stop()",
   "id": "25ff9f4561bb6b3d",
   "outputs": [],
   "execution_count": 5
  }
 ],
 "metadata": {
  "kernelspec": {
   "display_name": "Python 3",
   "language": "python",
   "name": "python3"
  },
  "language_info": {
   "codemirror_mode": {
    "name": "ipython",
    "version": 2
   },
   "file_extension": ".py",
   "mimetype": "text/x-python",
   "name": "python",
   "nbconvert_exporter": "python",
   "pygments_lexer": "ipython2",
   "version": "2.7.6"
  }
 },
 "nbformat": 4,
 "nbformat_minor": 5
}
