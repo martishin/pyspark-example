{
 "cells": [
  {
   "cell_type": "code",
   "id": "initial_id",
   "metadata": {
    "collapsed": true,
    "ExecuteTime": {
     "end_time": "2024-09-08T16:13:15.787820Z",
     "start_time": "2024-09-08T16:13:15.784212Z"
    }
   },
   "source": [
    "# set pyspark env variables\n",
    "import os\n",
    "os.environ['SPARK_HOME'] = \"/Users/monkey/.sdkman/candidates/spark/current\"\n",
    "os.environ['PYSPARK_DRIVER_PYTHON'] = 'jupyter'\n",
    "os.environ['PYSPARK_DRIVER_PYTHON_OPTS'] = 'lab'\n",
    "os.environ['PYSPARK_PYTHON'] = 'python3'"
   ],
   "outputs": [],
   "execution_count": 5
  },
  {
   "metadata": {},
   "cell_type": "markdown",
   "source": "## Create Spark context in Apache Spark version 1.x",
   "id": "f46895c4011ff362"
  },
  {
   "metadata": {
    "ExecuteTime": {
     "end_time": "2024-09-08T16:13:15.843578Z",
     "start_time": "2024-09-08T16:13:15.789216Z"
    }
   },
   "cell_type": "code",
   "source": [
    "from pyspark import SparkContext, SparkConf\n",
    "\n",
    "# Create a new SparkConf and pass the appName\n",
    "conf = SparkConf().setAppName(\"my-spark-application\")\n",
    "\n",
    "# Get or create the SparkContext with the given configuration\n",
    "sc = SparkContext.getOrCreate(conf=conf)"
   ],
   "id": "c05f5238905a364c",
   "outputs": [],
   "execution_count": 6
  },
  {
   "metadata": {
    "ExecuteTime": {
     "end_time": "2024-09-08T16:13:15.847310Z",
     "start_time": "2024-09-08T16:13:15.844260Z"
    }
   },
   "cell_type": "code",
   "source": "sc",
   "id": "d22c53d092fda988",
   "outputs": [
    {
     "data": {
      "text/plain": [
       "<SparkContext master=local[*] appName=my-spark-application>"
      ],
      "text/html": [
       "\n",
       "        <div>\n",
       "            <p><b>SparkContext</b></p>\n",
       "\n",
       "            <p><a href=\"http://192.168.178.87:4040\">Spark UI</a></p>\n",
       "\n",
       "            <dl>\n",
       "              <dt>Version</dt>\n",
       "                <dd><code>v3.5.1</code></dd>\n",
       "              <dt>Master</dt>\n",
       "                <dd><code>local[*]</code></dd>\n",
       "              <dt>AppName</dt>\n",
       "                <dd><code>my-spark-application</code></dd>\n",
       "            </dl>\n",
       "        </div>\n",
       "        "
      ]
     },
     "execution_count": 7,
     "metadata": {},
     "output_type": "execute_result"
    }
   ],
   "execution_count": 7
  },
  {
   "metadata": {
    "ExecuteTime": {
     "end_time": "2024-09-08T16:13:20.346704Z",
     "start_time": "2024-09-08T16:13:20.276428Z"
    }
   },
   "cell_type": "code",
   "source": "sc.stop()",
   "id": "5132b069f07cc0a4",
   "outputs": [],
   "execution_count": 9
  },
  {
   "metadata": {},
   "cell_type": "markdown",
   "source": "## Create Spark context in Apache Spark version 2.x and later",
   "id": "4a796fb7d351fcfe"
  },
  {
   "metadata": {
    "ExecuteTime": {
     "end_time": "2024-09-08T16:16:48.779132Z",
     "start_time": "2024-09-08T16:16:48.461472Z"
    }
   },
   "cell_type": "code",
   "source": [
    "from pyspark.sql import SparkSession\n",
    "\n",
    "# Create a SparkSession\n",
    "spark = SparkSession.builder \\\n",
    "    .appName(\"my-spark-application\") \\\n",
    "    .getOrCreate()\n",
    "\n",
    "# Get the SparkContext from the SparkSession\n",
    "sc = spark.sparkContext"
   ],
   "id": "42c0d71b526a377f",
   "outputs": [],
   "execution_count": 12
  },
  {
   "metadata": {
    "ExecuteTime": {
     "end_time": "2024-09-08T16:16:50.744689Z",
     "start_time": "2024-09-08T16:16:50.741587Z"
    }
   },
   "cell_type": "code",
   "source": "sc",
   "id": "33ad42067bd0c3a1",
   "outputs": [
    {
     "data": {
      "text/plain": [
       "<SparkContext master=local[*] appName=my-spark-application>"
      ],
      "text/html": [
       "\n",
       "        <div>\n",
       "            <p><b>SparkContext</b></p>\n",
       "\n",
       "            <p><a href=\"http://192.168.178.87:4040\">Spark UI</a></p>\n",
       "\n",
       "            <dl>\n",
       "              <dt>Version</dt>\n",
       "                <dd><code>v3.5.1</code></dd>\n",
       "              <dt>Master</dt>\n",
       "                <dd><code>local[*]</code></dd>\n",
       "              <dt>AppName</dt>\n",
       "                <dd><code>my-spark-application</code></dd>\n",
       "            </dl>\n",
       "        </div>\n",
       "        "
      ]
     },
     "execution_count": 13,
     "metadata": {},
     "output_type": "execute_result"
    }
   ],
   "execution_count": 13
  },
  {
   "metadata": {
    "jupyter": {
     "is_executing": true
    }
   },
   "cell_type": "code",
   "source": [
    "# Shut down the current active SparkContext\n",
    "sc.stop()  # or spark.stop() "
   ],
   "id": "17f183b76bc8d308",
   "outputs": [],
   "execution_count": null
  },
  {
   "metadata": {},
   "cell_type": "code",
   "outputs": [],
   "execution_count": null,
   "source": "",
   "id": "a87b01f752c8aa09"
  }
 ],
 "metadata": {
  "kernelspec": {
   "display_name": "Python 3",
   "language": "python",
   "name": "python3"
  },
  "language_info": {
   "codemirror_mode": {
    "name": "ipython",
    "version": 2
   },
   "file_extension": ".py",
   "mimetype": "text/x-python",
   "name": "python",
   "nbconvert_exporter": "python",
   "pygments_lexer": "ipython2",
   "version": "2.7.6"
  }
 },
 "nbformat": 4,
 "nbformat_minor": 5
}
