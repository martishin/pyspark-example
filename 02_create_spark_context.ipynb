{
 "cells": [
  {
   "cell_type": "code",
   "id": "initial_id",
   "metadata": {
    "collapsed": true,
    "ExecuteTime": {
     "end_time": "2024-09-08T16:24:22.192830Z",
     "start_time": "2024-09-08T16:24:22.187467Z"
    }
   },
   "source": [
    "# set pyspark env variables\n",
    "import os\n",
    "os.environ['SPARK_HOME'] = \"/Users/monkey/.sdkman/candidates/spark/current\"\n",
    "os.environ['PYSPARK_DRIVER_PYTHON'] = 'jupyter'\n",
    "os.environ['PYSPARK_DRIVER_PYTHON_OPTS'] = 'lab'\n",
    "os.environ['PYSPARK_PYTHON'] = 'python3'"
   ],
   "outputs": [],
   "execution_count": 1
  },
  {
   "metadata": {},
   "cell_type": "markdown",
   "source": "## Create Spark context in Apache Spark version 1.x",
   "id": "f46895c4011ff362"
  },
  {
   "metadata": {
    "ExecuteTime": {
     "end_time": "2024-09-08T16:24:23.569766Z",
     "start_time": "2024-09-08T16:24:22.194081Z"
    }
   },
   "cell_type": "code",
   "source": [
    "from pyspark import SparkContext, SparkConf\n",
    "\n",
    "# Create a new SparkConf and pass the appName\n",
    "conf = SparkConf().setAppName(\"my-spark-application\")\n",
    "\n",
    "# Get or create the SparkContext with the given configuration\n",
    "sc = SparkContext.getOrCreate(conf=conf)"
   ],
   "id": "c05f5238905a364c",
   "outputs": [
    {
     "name": "stderr",
     "output_type": "stream",
     "text": [
      "24/09/08 18:24:22 WARN Utils: Your hostname, Alexs-Mac-mini.local resolves to a loopback address: 127.0.0.1; using 192.168.178.87 instead (on interface en0)\n",
      "24/09/08 18:24:22 WARN Utils: Set SPARK_LOCAL_IP if you need to bind to another address\n",
      "Setting default log level to \"WARN\".\n",
      "To adjust logging level use sc.setLogLevel(newLevel). For SparkR, use setLogLevel(newLevel).\n",
      "24/09/08 18:24:23 WARN NativeCodeLoader: Unable to load native-hadoop library for your platform... using builtin-java classes where applicable\n"
     ]
    }
   ],
   "execution_count": 2
  },
  {
   "metadata": {
    "ExecuteTime": {
     "end_time": "2024-09-08T16:24:23.574973Z",
     "start_time": "2024-09-08T16:24:23.570510Z"
    }
   },
   "cell_type": "code",
   "source": "sc",
   "id": "d22c53d092fda988",
   "outputs": [
    {
     "data": {
      "text/plain": [
       "<SparkContext master=local[*] appName=my-spark-application>"
      ],
      "text/html": [
       "\n",
       "        <div>\n",
       "            <p><b>SparkContext</b></p>\n",
       "\n",
       "            <p><a href=\"http://192.168.178.87:4040\">Spark UI</a></p>\n",
       "\n",
       "            <dl>\n",
       "              <dt>Version</dt>\n",
       "                <dd><code>v3.5.1</code></dd>\n",
       "              <dt>Master</dt>\n",
       "                <dd><code>local[*]</code></dd>\n",
       "              <dt>AppName</dt>\n",
       "                <dd><code>my-spark-application</code></dd>\n",
       "            </dl>\n",
       "        </div>\n",
       "        "
      ]
     },
     "execution_count": 3,
     "metadata": {},
     "output_type": "execute_result"
    }
   ],
   "execution_count": 3
  },
  {
   "metadata": {
    "ExecuteTime": {
     "end_time": "2024-09-08T16:24:24.061058Z",
     "start_time": "2024-09-08T16:24:23.576182Z"
    }
   },
   "cell_type": "code",
   "source": "sc.stop()",
   "id": "5132b069f07cc0a4",
   "outputs": [],
   "execution_count": 4
  },
  {
   "metadata": {},
   "cell_type": "markdown",
   "source": "## Create Spark context in Apache Spark version 2.x and later",
   "id": "4a796fb7d351fcfe"
  },
  {
   "metadata": {
    "ExecuteTime": {
     "end_time": "2024-09-08T16:24:24.185270Z",
     "start_time": "2024-09-08T16:24:24.061999Z"
    }
   },
   "cell_type": "code",
   "source": [
    "from pyspark.sql import SparkSession\n",
    "\n",
    "# Create a SparkSession\n",
    "spark = SparkSession.builder \\\n",
    "    .appName(\"my-spark-application\") \\\n",
    "    .getOrCreate()\n",
    "\n",
    "# Get the SparkContext from the SparkSession\n",
    "sc = spark.sparkContext"
   ],
   "id": "42c0d71b526a377f",
   "outputs": [],
   "execution_count": 5
  },
  {
   "metadata": {
    "ExecuteTime": {
     "end_time": "2024-09-08T16:24:24.188822Z",
     "start_time": "2024-09-08T16:24:24.186003Z"
    }
   },
   "cell_type": "code",
   "source": "sc",
   "id": "33ad42067bd0c3a1",
   "outputs": [
    {
     "data": {
      "text/plain": [
       "<SparkContext master=local[*] appName=my-spark-application>"
      ],
      "text/html": [
       "\n",
       "        <div>\n",
       "            <p><b>SparkContext</b></p>\n",
       "\n",
       "            <p><a href=\"http://192.168.178.87:4040\">Spark UI</a></p>\n",
       "\n",
       "            <dl>\n",
       "              <dt>Version</dt>\n",
       "                <dd><code>v3.5.1</code></dd>\n",
       "              <dt>Master</dt>\n",
       "                <dd><code>local[*]</code></dd>\n",
       "              <dt>AppName</dt>\n",
       "                <dd><code>my-spark-application</code></dd>\n",
       "            </dl>\n",
       "        </div>\n",
       "        "
      ]
     },
     "execution_count": 6,
     "metadata": {},
     "output_type": "execute_result"
    }
   ],
   "execution_count": 6
  },
  {
   "metadata": {
    "ExecuteTime": {
     "end_time": "2024-09-08T16:24:24.623294Z",
     "start_time": "2024-09-08T16:24:24.189423Z"
    }
   },
   "cell_type": "code",
   "source": [
    "# Shut down the current active SparkContext\n",
    "sc.stop()  # or spark.stop() "
   ],
   "id": "17f183b76bc8d308",
   "outputs": [],
   "execution_count": 7
  }
 ],
 "metadata": {
  "kernelspec": {
   "display_name": "Python 3",
   "language": "python",
   "name": "python3"
  },
  "language_info": {
   "codemirror_mode": {
    "name": "ipython",
    "version": 2
   },
   "file_extension": ".py",
   "mimetype": "text/x-python",
   "name": "python",
   "nbconvert_exporter": "python",
   "pygments_lexer": "ipython2",
   "version": "2.7.6"
  }
 },
 "nbformat": 4,
 "nbformat_minor": 5
}
