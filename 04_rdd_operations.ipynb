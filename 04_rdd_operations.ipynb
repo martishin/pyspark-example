{
 "cells": [
  {
   "cell_type": "code",
   "id": "initial_id",
   "metadata": {
    "collapsed": true,
    "ExecuteTime": {
     "end_time": "2024-09-08T21:15:02.238297Z",
     "start_time": "2024-09-08T21:15:02.233852Z"
    }
   },
   "source": [
    "# set pyspark env variables\n",
    "import os\n",
    "os.environ['SPARK_HOME'] = \"/Users/monkey/.sdkman/candidates/spark/current\"\n",
    "os.environ['PYSPARK_DRIVER_PYTHON'] = 'jupyter'\n",
    "os.environ['PYSPARK_DRIVER_PYTHON_OPTS'] = 'lab'\n",
    "os.environ['PYSPARK_PYTHON'] = 'python3'"
   ],
   "outputs": [],
   "execution_count": 1
  },
  {
   "metadata": {
    "ExecuteTime": {
     "end_time": "2024-09-08T21:15:03.637565Z",
     "start_time": "2024-09-08T21:15:02.239441Z"
    }
   },
   "cell_type": "code",
   "source": [
    "from pyspark.sql import SparkSession\n",
    "\n",
    "# Create a SparkSession\n",
    "spark = SparkSession.builder \\\n",
    "    .appName(\"rdd-operations\") \\\n",
    "    .getOrCreate()"
   ],
   "id": "67122de810a7279",
   "outputs": [
    {
     "name": "stderr",
     "output_type": "stream",
     "text": [
      "24/09/08 23:15:02 WARN Utils: Your hostname, Alexs-Mac-mini.local resolves to a loopback address: 127.0.0.1; using 192.168.178.87 instead (on interface en0)\n",
      "24/09/08 23:15:02 WARN Utils: Set SPARK_LOCAL_IP if you need to bind to another address\n",
      "Setting default log level to \"WARN\".\n",
      "To adjust logging level use sc.setLogLevel(newLevel). For SparkR, use setLogLevel(newLevel).\n",
      "24/09/08 23:15:03 WARN NativeCodeLoader: Unable to load native-hadoop library for your platform... using builtin-java classes where applicable\n"
     ]
    }
   ],
   "execution_count": 2
  },
  {
   "metadata": {},
   "cell_type": "markdown",
   "source": "## How to create RDDs",
   "id": "a50607ed23198e57"
  },
  {
   "metadata": {
    "ExecuteTime": {
     "end_time": "2024-09-08T21:15:03.732552Z",
     "start_time": "2024-09-08T21:15:03.638805Z"
    }
   },
   "cell_type": "code",
   "source": [
    "numbers = [1, 2, 3, 4, 5]\n",
    "rdd = spark.sparkContext.parallelize(numbers)"
   ],
   "id": "4a7ea305a4ab2f43",
   "outputs": [],
   "execution_count": 3
  },
  {
   "metadata": {
    "ExecuteTime": {
     "end_time": "2024-09-08T21:15:04.074023Z",
     "start_time": "2024-09-08T21:15:03.733243Z"
    }
   },
   "cell_type": "code",
   "source": [
    "# Collect action: Retrieve all elements of the RDD\n",
    "rdd.collect()"
   ],
   "id": "615692a9a0710d09",
   "outputs": [
    {
     "data": {
      "text/plain": [
       "[1, 2, 3, 4, 5]"
      ]
     },
     "execution_count": 4,
     "metadata": {},
     "output_type": "execute_result"
    }
   ],
   "execution_count": 4
  },
  {
   "metadata": {
    "ExecuteTime": {
     "end_time": "2024-09-08T21:15:04.079395Z",
     "start_time": "2024-09-08T21:15:04.075458Z"
    }
   },
   "cell_type": "code",
   "source": [
    "# Create an RDD from a list of tuples\n",
    "data = [(\"Alice\", 25), (\"Bob\", 30), (\"Charlie\", 35), (\"Alice\", 40)]\n",
    "rdd = spark.sparkContext.parallelize(data)"
   ],
   "id": "d576e4f63f723b3c",
   "outputs": [],
   "execution_count": 5
  },
  {
   "metadata": {
    "ExecuteTime": {
     "end_time": "2024-09-08T21:15:04.118089Z",
     "start_time": "2024-09-08T21:15:04.080042Z"
    }
   },
   "cell_type": "code",
   "source": [
    "# Collect action: Retrieve all elements of the RDD\n",
    "print(\"All elements of the rdd: \", rdd.collect())"
   ],
   "id": "a2e96acf1a25c5db",
   "outputs": [
    {
     "name": "stdout",
     "output_type": "stream",
     "text": [
      "All elements of the rdd:  [('Alice', 25), ('Bob', 30), ('Charlie', 35), ('Alice', 40)]\n"
     ]
    }
   ],
   "execution_count": 6
  },
  {
   "metadata": {},
   "cell_type": "markdown",
   "source": "## RDDs Operation: Actions",
   "id": "1a84ac0a7495acc9"
  },
  {
   "metadata": {
    "ExecuteTime": {
     "end_time": "2024-09-08T21:15:04.514789Z",
     "start_time": "2024-09-08T21:15:04.119084Z"
    }
   },
   "cell_type": "code",
   "source": [
    "# Count action: Count the number of elements in the RDD\n",
    "count = rdd.count()\n",
    "print(\"The total number of elements in rdd: \", count)"
   ],
   "id": "b4da30ab36f02f91",
   "outputs": [
    {
     "name": "stdout",
     "output_type": "stream",
     "text": [
      "The total number of elements in rdd:  4\n"
     ]
    }
   ],
   "execution_count": 7
  },
  {
   "metadata": {
    "ExecuteTime": {
     "end_time": "2024-09-08T21:15:04.634028Z",
     "start_time": "2024-09-08T21:15:04.515475Z"
    }
   },
   "cell_type": "code",
   "source": [
    "# First action: Retrieve the first element of the RDD\n",
    "first_element = rdd.first()\n",
    "print(\"The first element of the rdd: \", first_element)"
   ],
   "id": "483d2bf22eb788fa",
   "outputs": [
    {
     "name": "stdout",
     "output_type": "stream",
     "text": [
      "The first element of the rdd:  ('Alice', 25)\n"
     ]
    }
   ],
   "execution_count": 8
  },
  {
   "metadata": {
    "ExecuteTime": {
     "end_time": "2024-09-08T21:15:04.747898Z",
     "start_time": "2024-09-08T21:15:04.634740Z"
    }
   },
   "cell_type": "code",
   "source": [
    "# Take action: Retrieve the n elements of the RDD\n",
    "taken_elements = rdd.take(2)\n",
    "print(\"The first two elements of the rdd: \", taken_elements)"
   ],
   "id": "b3121d5d6e3b9b46",
   "outputs": [
    {
     "name": "stdout",
     "output_type": "stream",
     "text": [
      "The first two elements of the rdd:  [('Alice', 25), ('Bob', 30)]\n"
     ]
    }
   ],
   "execution_count": 9
  },
  {
   "metadata": {
    "ExecuteTime": {
     "end_time": "2024-09-08T21:15:04.848470Z",
     "start_time": "2024-09-08T21:15:04.748505Z"
    }
   },
   "cell_type": "code",
   "source": [
    "# Foreach action: Print each element of the RDD\n",
    "rdd.foreach(lambda x: print(x))"
   ],
   "id": "93618f3655c60efb",
   "outputs": [
    {
     "name": "stderr",
     "output_type": "stream",
     "text": [
      "('Alice', 25)\n",
      "('Charlie', 35)\n",
      "('Alice', 40)\n",
      "('Bob', 30)\n"
     ]
    }
   ],
   "execution_count": 10
  },
  {
   "metadata": {},
   "cell_type": "markdown",
   "source": "## RDDs Operation: Transformations",
   "id": "ac4df68b522909ca"
  },
  {
   "metadata": {
    "ExecuteTime": {
     "end_time": "2024-09-08T21:15:04.853252Z",
     "start_time": "2024-09-08T21:15:04.851064Z"
    }
   },
   "cell_type": "code",
   "source": [
    "# Map transformation: Convert name to uppercase\n",
    "mapped_rdd = rdd.map(lambda x: (x[0].upper(), x[1]))"
   ],
   "id": "667e86b02466c72c",
   "outputs": [],
   "execution_count": 11
  },
  {
   "metadata": {
    "ExecuteTime": {
     "end_time": "2024-09-08T21:15:04.949622Z",
     "start_time": "2024-09-08T21:15:04.853862Z"
    }
   },
   "cell_type": "code",
   "source": [
    "result = mapped_rdd.collect()\n",
    "print(\"rdd with uppercease name: \", result)"
   ],
   "id": "6d2f0c612a3a3931",
   "outputs": [
    {
     "name": "stdout",
     "output_type": "stream",
     "text": [
      "rdd with uppercease name:  [('ALICE', 25), ('BOB', 30), ('CHARLIE', 35), ('ALICE', 40)]\n"
     ]
    }
   ],
   "execution_count": 12
  },
  {
   "metadata": {
    "ExecuteTime": {
     "end_time": "2024-09-08T21:15:05.079046Z",
     "start_time": "2024-09-08T21:15:04.950416Z"
    }
   },
   "cell_type": "code",
   "source": [
    "# Filter transformation: Filter records where age is greater than 30\n",
    "filtered_rdd = rdd.filter(lambda x: x[1] > 30)\n",
    "filtered_rdd.collect()"
   ],
   "id": "a18edccadc662a73",
   "outputs": [
    {
     "data": {
      "text/plain": [
       "[('Charlie', 35), ('Alice', 40)]"
      ]
     },
     "execution_count": 13,
     "metadata": {},
     "output_type": "execute_result"
    }
   ],
   "execution_count": 13
  },
  {
   "metadata": {
    "ExecuteTime": {
     "end_time": "2024-09-08T21:15:05.400379Z",
     "start_time": "2024-09-08T21:15:05.079722Z"
    }
   },
   "cell_type": "code",
   "source": [
    "# ReduceByKey transformation: Calculate the total age for each name\n",
    "reduced_rdd = rdd.reduceByKey(lambda x, y: x + y)\n",
    "reduced_rdd.collect()"
   ],
   "id": "574a839352af54c9",
   "outputs": [
    {
     "data": {
      "text/plain": [
       "[('Charlie', 35), ('Alice', 65), ('Bob', 30)]"
      ]
     },
     "execution_count": 14,
     "metadata": {},
     "output_type": "execute_result"
    }
   ],
   "execution_count": 14
  },
  {
   "metadata": {
    "ExecuteTime": {
     "end_time": "2024-09-08T21:15:05.767542Z",
     "start_time": "2024-09-08T21:15:05.401196Z"
    }
   },
   "cell_type": "code",
   "source": [
    "# SortBy transformation: Sort the RDD by age in descending order\n",
    "sorted_rdd = rdd.sortBy(lambda x: x[1], ascending=False)\n",
    "sorted_rdd.collect()"
   ],
   "id": "61d930aa252c8bef",
   "outputs": [
    {
     "data": {
      "text/plain": [
       "[('Alice', 40), ('Charlie', 35), ('Bob', 30), ('Alice', 25)]"
      ]
     },
     "execution_count": 15,
     "metadata": {},
     "output_type": "execute_result"
    }
   ],
   "execution_count": 15
  },
  {
   "metadata": {},
   "cell_type": "markdown",
   "source": "## Save RDDs to text file and read RDDs from text file",
   "id": "c50caab471f2d7fc"
  },
  {
   "metadata": {
    "ExecuteTime": {
     "end_time": "2024-09-08T21:15:06.030432Z",
     "start_time": "2024-09-08T21:15:05.768216Z"
    }
   },
   "cell_type": "code",
   "source": [
    "# Save action: Save the RDD to a text file\n",
    "rdd.saveAsTextFile(\"output.txt\")"
   ],
   "id": "209f423c6ecd1ab6",
   "outputs": [],
   "execution_count": 16
  },
  {
   "metadata": {
    "ExecuteTime": {
     "end_time": "2024-09-08T21:15:06.155975Z",
     "start_time": "2024-09-08T21:15:06.031090Z"
    }
   },
   "cell_type": "code",
   "source": [
    "# create rdd from text file\n",
    "rdd_text = spark.sparkContext.textFile(\"output.txt\")\n",
    "rdd_text.collect()"
   ],
   "id": "20add899392ca016",
   "outputs": [
    {
     "data": {
      "text/plain": [
       "[\"('Alice', 25)\", \"('Bob', 30)\", \"('Charlie', 35)\", \"('Alice', 40)\"]"
      ]
     },
     "execution_count": 17,
     "metadata": {},
     "output_type": "execute_result"
    }
   ],
   "execution_count": 17
  },
  {
   "metadata": {},
   "cell_type": "markdown",
   "source": "## Shut down Spark Session",
   "id": "9cb05104e0cff6ab"
  },
  {
   "metadata": {
    "ExecuteTime": {
     "end_time": "2024-09-08T21:15:07.027305Z",
     "start_time": "2024-09-08T21:15:06.156775Z"
    }
   },
   "cell_type": "code",
   "source": "spark.stop()",
   "id": "6011a0a85a55ec31",
   "outputs": [],
   "execution_count": 18
  }
 ],
 "metadata": {
  "kernelspec": {
   "display_name": "Python 3",
   "language": "python",
   "name": "python3"
  },
  "language_info": {
   "codemirror_mode": {
    "name": "ipython",
    "version": 2
   },
   "file_extension": ".py",
   "mimetype": "text/x-python",
   "name": "python",
   "nbconvert_exporter": "python",
   "pygments_lexer": "ipython2",
   "version": "2.7.6"
  }
 },
 "nbformat": 4,
 "nbformat_minor": 5
}
